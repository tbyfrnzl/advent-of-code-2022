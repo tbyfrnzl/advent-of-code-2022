{
 "cells": [
  {
   "cell_type": "code",
   "execution_count": 10,
   "metadata": {},
   "outputs": [
    {
     "name": "stdout",
     "output_type": "stream",
     "text": [
      "The elf that carries the most calories, carries a total of 71300 calories.\n",
      "The 3 elves carrying the most calories, carry a total of 209691 calories.\n"
     ]
    }
   ],
   "source": [
    "calories = []\n",
    "\n",
    "with open('./input.txt') as file:\n",
    "  content = file.read()\n",
    "\n",
    "  caloriesPerElf = content.split('\\n\\n')\n",
    "\n",
    "  for e in caloriesPerElf: \n",
    "    caloriesArray = e.split('\\n')\n",
    "\n",
    "    caloriesArrayStrings = [eval(c) for c in caloriesArray]\n",
    "\n",
    "    total = sum(caloriesArrayStrings)\n",
    "\n",
    "    calories.append(total)\n",
    "\n",
    "maxCalories = max(calories)\n",
    "\n",
    "print(f\"The elf that carries the most calories, carries a total of {maxCalories} calories.\")\n",
    "\n",
    "sortedCalories = sorted(calories, reverse=True)\n",
    "\n",
    "sliceObject = slice(0, 3)\n",
    "\n",
    "topThree = sortedCalories[sliceObject]\n",
    "\n",
    "topThreeTotal = sum(topThree)\n",
    "\n",
    "print(f\"The 3 elves carrying the most calories, carry a total of {topThreeTotal} calories.\")"
   ]
  }
 ],
 "metadata": {
  "kernelspec": {
   "display_name": "Python 3.10.4 64-bit",
   "language": "python",
   "name": "python3"
  },
  "language_info": {
   "codemirror_mode": {
    "name": "ipython",
    "version": 3
   },
   "file_extension": ".py",
   "mimetype": "text/x-python",
   "name": "python",
   "nbconvert_exporter": "python",
   "pygments_lexer": "ipython3",
   "version": "3.10.4"
  },
  "orig_nbformat": 4,
  "vscode": {
   "interpreter": {
    "hash": "aee8b7b246df8f9039afb4144a1f6fd8d2ca17a180786b69acc140d282b71a49"
   }
  }
 },
 "nbformat": 4,
 "nbformat_minor": 2
}
